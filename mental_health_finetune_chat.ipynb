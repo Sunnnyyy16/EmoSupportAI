{
  "cells": [
    {
      "cell_type": "markdown",
      "metadata": {
        "id": "view-in-github",
        "colab_type": "text"
      },
      "source": [
        "<a href=\"https://colab.research.google.com/github/Sunnnyyy16/EmoSupportAI/blob/sunny/mental_health_finetune_chat.ipynb\" target=\"_parent\"><img src=\"https://colab.research.google.com/assets/colab-badge.svg\" alt=\"Open In Colab\"/></a>"
      ]
    },
    {
      "cell_type": "markdown",
      "id": "7bcdad0e-b67c-4927-b00e-3a4d950cd8ce",
      "metadata": {
        "id": "7bcdad0e-b67c-4927-b00e-3a4d950cd8ce"
      },
      "source": [
        "# GPT fine-tuning with mental health conversation dataset\n",
        "### Reference\n",
        "\n",
        "* [source code](https://github.com/openai/openai-cookbook/blob/main/examples/How_to_finetune_chat_models.ipynb)\n",
        "* [documentation guide](https://platform.openai.com/docs/guides/fine-tuning)\n",
        "* [API reference](https://platform.openai.com/docs/api-reference/fine-tuning).\n"
      ]
    },
    {
      "cell_type": "markdown",
      "id": "6f49cb10-f895-41f4-aa97-da606d0084d4",
      "metadata": {
        "id": "6f49cb10-f895-41f4-aa97-da606d0084d4"
      },
      "source": [
        "## Setup\n"
      ]
    },
    {
      "cell_type": "code",
      "execution_count": null,
      "id": "32036e70",
      "metadata": {
        "colab": {
          "base_uri": "https://localhost:8080/"
        },
        "id": "32036e70",
        "outputId": "1bfdfb63-fc67-40fe-cc13-06ff5c987f07"
      },
      "outputs": [
        {
          "output_type": "stream",
          "name": "stdout",
          "text": [
            "\u001b[?25l   \u001b[90m━━━━━━━━━━━━━━━━━━━━━━━━━━━━━━━━━━━━━━━━\u001b[0m \u001b[32m0.0/386.9 kB\u001b[0m \u001b[31m?\u001b[0m eta \u001b[36m-:--:--\u001b[0m\r\u001b[2K   \u001b[91m━━━━━━━━━━━━━━━━━━━━━━━━━━━━━━━━━━━━━━━\u001b[0m\u001b[90m╺\u001b[0m \u001b[32m378.9/386.9 kB\u001b[0m \u001b[31m19.4 MB/s\u001b[0m eta \u001b[36m0:00:01\u001b[0m\r\u001b[2K   \u001b[90m━━━━━━━━━━━━━━━━━━━━━━━━━━━━━━━━━━━━━━━━\u001b[0m \u001b[32m386.9/386.9 kB\u001b[0m \u001b[31m10.6 MB/s\u001b[0m eta \u001b[36m0:00:00\u001b[0m\n",
            "\u001b[?25h\u001b[?25l   \u001b[90m━━━━━━━━━━━━━━━━━━━━━━━━━━━━━━━━━━━━━━━━\u001b[0m \u001b[32m0.0/76.4 kB\u001b[0m \u001b[31m?\u001b[0m eta \u001b[36m-:--:--\u001b[0m\r\u001b[2K   \u001b[90m━━━━━━━━━━━━━━━━━━━━━━━━━━━━━━━━━━━━━━━━\u001b[0m \u001b[32m76.4/76.4 kB\u001b[0m \u001b[31m5.9 MB/s\u001b[0m eta \u001b[36m0:00:00\u001b[0m\n",
            "\u001b[?25h\u001b[?25l   \u001b[90m━━━━━━━━━━━━━━━━━━━━━━━━━━━━━━━━━━━━━━━━\u001b[0m \u001b[32m0.0/78.0 kB\u001b[0m \u001b[31m?\u001b[0m eta \u001b[36m-:--:--\u001b[0m\r\u001b[2K   \u001b[90m━━━━━━━━━━━━━━━━━━━━━━━━━━━━━━━━━━━━━━━━\u001b[0m \u001b[32m78.0/78.0 kB\u001b[0m \u001b[31m6.2 MB/s\u001b[0m eta \u001b[36m0:00:00\u001b[0m\n",
            "\u001b[?25h\u001b[?25l   \u001b[90m━━━━━━━━━━━━━━━━━━━━━━━━━━━━━━━━━━━━━━━━\u001b[0m \u001b[32m0.0/325.2 kB\u001b[0m \u001b[31m?\u001b[0m eta \u001b[36m-:--:--\u001b[0m\r\u001b[2K   \u001b[90m━━━━━━━━━━━━━━━━━━━━━━━━━━━━━━━━━━━━━━━━\u001b[0m \u001b[32m325.2/325.2 kB\u001b[0m \u001b[31m20.2 MB/s\u001b[0m eta \u001b[36m0:00:00\u001b[0m\n",
            "\u001b[?25h\u001b[?25l   \u001b[90m━━━━━━━━━━━━━━━━━━━━━━━━━━━━━━━━━━━━━━━━\u001b[0m \u001b[32m0.0/58.3 kB\u001b[0m \u001b[31m?\u001b[0m eta \u001b[36m-:--:--\u001b[0m\r\u001b[2K   \u001b[90m━━━━━━━━━━━━━━━━━━━━━━━━━━━━━━━━━━━━━━━━\u001b[0m \u001b[32m58.3/58.3 kB\u001b[0m \u001b[31m4.3 MB/s\u001b[0m eta \u001b[36m0:00:00\u001b[0m\n",
            "\u001b[?25h"
          ]
        }
      ],
      "source": [
        "# make sure to use the latest version of the openai python package\n",
        "!pip install --upgrade --quiet openai"
      ]
    },
    {
      "cell_type": "code",
      "execution_count": null,
      "id": "6e1f4403-37e1-4115-a215-12fd7daa1eb6",
      "metadata": {
        "id": "6e1f4403-37e1-4115-a215-12fd7daa1eb6"
      },
      "outputs": [],
      "source": [
        "import json\n",
        "import openai\n",
        "import os\n",
        "import pandas as pd\n",
        "from pprint import pprint\n",
        "\n",
        "# Set your API key directly here\n",
        "OPENAI_API_KEY = \"COPY OPENAPI KEY HERE\"\n",
        "\n",
        "client = openai.OpenAI(\n",
        "    api_key=OPENAI_API_KEY\n",
        ")"
      ]
    },
    {
      "cell_type": "code",
      "source": [
        "## mental health counseling dataset 불러오기\n",
        "import pandas as pd\n",
        "\n",
        "df = pd.read_csv(\"hf://datasets/nbertagnolli/counsel-chat/20220401_counsel_chat.csv\")\n",
        "print(df.shape)\n",
        "df.head()"
      ],
      "metadata": {
        "colab": {
          "base_uri": "https://localhost:8080/",
          "height": 556
        },
        "id": "mINOLGqFgFHd",
        "outputId": "a6b52257-bf27-4065-f49b-814da11f992f"
      },
      "id": "mINOLGqFgFHd",
      "execution_count": null,
      "outputs": [
        {
          "output_type": "stream",
          "name": "stdout",
          "text": [
            "(2775, 10)\n"
          ]
        },
        {
          "output_type": "execute_result",
          "data": {
            "text/plain": [
              "   questionID                              questionTitle  \\\n",
              "0           0  Do I have too many issues for counseling?   \n",
              "1           0  Do I have too many issues for counseling?   \n",
              "2           0  Do I have too many issues for counseling?   \n",
              "3           0  Do I have too many issues for counseling?   \n",
              "4           0  Do I have too many issues for counseling?   \n",
              "\n",
              "                                        questionText  \\\n",
              "0  I have so many issues to address. I have a his...   \n",
              "1  I have so many issues to address. I have a his...   \n",
              "2  I have so many issues to address. I have a his...   \n",
              "3  I have so many issues to address. I have a his...   \n",
              "4  I have so many issues to address. I have a his...   \n",
              "\n",
              "                                        questionLink       topic  \\\n",
              "0  https://counselchat.com/questions/do-i-have-to...  depression   \n",
              "1  https://counselchat.com/questions/do-i-have-to...  depression   \n",
              "2  https://counselchat.com/questions/do-i-have-to...  depression   \n",
              "3  https://counselchat.com/questions/do-i-have-to...  depression   \n",
              "4  https://counselchat.com/questions/do-i-have-to...  depression   \n",
              "\n",
              "                                       therapistInfo  \\\n",
              "0  Jennifer MolinariHypnotherapist & Licensed Cou...   \n",
              "1  Jason Lynch, MS, LMHC, LCAC, ADSIndividual & C...   \n",
              "2  Shakeeta TorresFaith Based Mental Health Couns...   \n",
              "3  Noorayne ChevalierMA, RP, CCC, CCAC, LLP (Mich...   \n",
              "4  Toni Teixeira, LCSWYour road to healing begins...   \n",
              "\n",
              "                                        therapistURL  \\\n",
              "0  https://counselchat.com/therapists/jennifer-mo...   \n",
              "1  https://counselchat.com/therapists/jason-lynch...   \n",
              "2  https://counselchat.com/therapists/shakeeta-to...   \n",
              "3  https://counselchat.com/therapists/noorayne-ch...   \n",
              "4  https://counselchat.com/therapists/toni-teixei...   \n",
              "\n",
              "                                          answerText  upvotes  views  \n",
              "0  It is very common for people to have multiple ...        3   1971  \n",
              "1  I've never heard of someone having \"too many i...        2    386  \n",
              "2  Absolutely not.  I strongly recommending worki...        2   3071  \n",
              "3  Let me start by saying there are never too man...        2   2643  \n",
              "4  I just want to acknowledge you for the courage...        1    256  "
            ],
            "text/html": [
              "\n",
              "  <div id=\"df-0b139530-9079-42a2-b3ec-75883ef06536\" class=\"colab-df-container\">\n",
              "    <div>\n",
              "<style scoped>\n",
              "    .dataframe tbody tr th:only-of-type {\n",
              "        vertical-align: middle;\n",
              "    }\n",
              "\n",
              "    .dataframe tbody tr th {\n",
              "        vertical-align: top;\n",
              "    }\n",
              "\n",
              "    .dataframe thead th {\n",
              "        text-align: right;\n",
              "    }\n",
              "</style>\n",
              "<table border=\"1\" class=\"dataframe\">\n",
              "  <thead>\n",
              "    <tr style=\"text-align: right;\">\n",
              "      <th></th>\n",
              "      <th>questionID</th>\n",
              "      <th>questionTitle</th>\n",
              "      <th>questionText</th>\n",
              "      <th>questionLink</th>\n",
              "      <th>topic</th>\n",
              "      <th>therapistInfo</th>\n",
              "      <th>therapistURL</th>\n",
              "      <th>answerText</th>\n",
              "      <th>upvotes</th>\n",
              "      <th>views</th>\n",
              "    </tr>\n",
              "  </thead>\n",
              "  <tbody>\n",
              "    <tr>\n",
              "      <th>0</th>\n",
              "      <td>0</td>\n",
              "      <td>Do I have too many issues for counseling?</td>\n",
              "      <td>I have so many issues to address. I have a his...</td>\n",
              "      <td>https://counselchat.com/questions/do-i-have-to...</td>\n",
              "      <td>depression</td>\n",
              "      <td>Jennifer MolinariHypnotherapist &amp; Licensed Cou...</td>\n",
              "      <td>https://counselchat.com/therapists/jennifer-mo...</td>\n",
              "      <td>It is very common for people to have multiple ...</td>\n",
              "      <td>3</td>\n",
              "      <td>1971</td>\n",
              "    </tr>\n",
              "    <tr>\n",
              "      <th>1</th>\n",
              "      <td>0</td>\n",
              "      <td>Do I have too many issues for counseling?</td>\n",
              "      <td>I have so many issues to address. I have a his...</td>\n",
              "      <td>https://counselchat.com/questions/do-i-have-to...</td>\n",
              "      <td>depression</td>\n",
              "      <td>Jason Lynch, MS, LMHC, LCAC, ADSIndividual &amp; C...</td>\n",
              "      <td>https://counselchat.com/therapists/jason-lynch...</td>\n",
              "      <td>I've never heard of someone having \"too many i...</td>\n",
              "      <td>2</td>\n",
              "      <td>386</td>\n",
              "    </tr>\n",
              "    <tr>\n",
              "      <th>2</th>\n",
              "      <td>0</td>\n",
              "      <td>Do I have too many issues for counseling?</td>\n",
              "      <td>I have so many issues to address. I have a his...</td>\n",
              "      <td>https://counselchat.com/questions/do-i-have-to...</td>\n",
              "      <td>depression</td>\n",
              "      <td>Shakeeta TorresFaith Based Mental Health Couns...</td>\n",
              "      <td>https://counselchat.com/therapists/shakeeta-to...</td>\n",
              "      <td>Absolutely not.  I strongly recommending worki...</td>\n",
              "      <td>2</td>\n",
              "      <td>3071</td>\n",
              "    </tr>\n",
              "    <tr>\n",
              "      <th>3</th>\n",
              "      <td>0</td>\n",
              "      <td>Do I have too many issues for counseling?</td>\n",
              "      <td>I have so many issues to address. I have a his...</td>\n",
              "      <td>https://counselchat.com/questions/do-i-have-to...</td>\n",
              "      <td>depression</td>\n",
              "      <td>Noorayne ChevalierMA, RP, CCC, CCAC, LLP (Mich...</td>\n",
              "      <td>https://counselchat.com/therapists/noorayne-ch...</td>\n",
              "      <td>Let me start by saying there are never too man...</td>\n",
              "      <td>2</td>\n",
              "      <td>2643</td>\n",
              "    </tr>\n",
              "    <tr>\n",
              "      <th>4</th>\n",
              "      <td>0</td>\n",
              "      <td>Do I have too many issues for counseling?</td>\n",
              "      <td>I have so many issues to address. I have a his...</td>\n",
              "      <td>https://counselchat.com/questions/do-i-have-to...</td>\n",
              "      <td>depression</td>\n",
              "      <td>Toni Teixeira, LCSWYour road to healing begins...</td>\n",
              "      <td>https://counselchat.com/therapists/toni-teixei...</td>\n",
              "      <td>I just want to acknowledge you for the courage...</td>\n",
              "      <td>1</td>\n",
              "      <td>256</td>\n",
              "    </tr>\n",
              "  </tbody>\n",
              "</table>\n",
              "</div>\n",
              "    <div class=\"colab-df-buttons\">\n",
              "\n",
              "  <div class=\"colab-df-container\">\n",
              "    <button class=\"colab-df-convert\" onclick=\"convertToInteractive('df-0b139530-9079-42a2-b3ec-75883ef06536')\"\n",
              "            title=\"Convert this dataframe to an interactive table.\"\n",
              "            style=\"display:none;\">\n",
              "\n",
              "  <svg xmlns=\"http://www.w3.org/2000/svg\" height=\"24px\" viewBox=\"0 -960 960 960\">\n",
              "    <path d=\"M120-120v-720h720v720H120Zm60-500h600v-160H180v160Zm220 220h160v-160H400v160Zm0 220h160v-160H400v160ZM180-400h160v-160H180v160Zm440 0h160v-160H620v160ZM180-180h160v-160H180v160Zm440 0h160v-160H620v160Z\"/>\n",
              "  </svg>\n",
              "    </button>\n",
              "\n",
              "  <style>\n",
              "    .colab-df-container {\n",
              "      display:flex;\n",
              "      gap: 12px;\n",
              "    }\n",
              "\n",
              "    .colab-df-convert {\n",
              "      background-color: #E8F0FE;\n",
              "      border: none;\n",
              "      border-radius: 50%;\n",
              "      cursor: pointer;\n",
              "      display: none;\n",
              "      fill: #1967D2;\n",
              "      height: 32px;\n",
              "      padding: 0 0 0 0;\n",
              "      width: 32px;\n",
              "    }\n",
              "\n",
              "    .colab-df-convert:hover {\n",
              "      background-color: #E2EBFA;\n",
              "      box-shadow: 0px 1px 2px rgba(60, 64, 67, 0.3), 0px 1px 3px 1px rgba(60, 64, 67, 0.15);\n",
              "      fill: #174EA6;\n",
              "    }\n",
              "\n",
              "    .colab-df-buttons div {\n",
              "      margin-bottom: 4px;\n",
              "    }\n",
              "\n",
              "    [theme=dark] .colab-df-convert {\n",
              "      background-color: #3B4455;\n",
              "      fill: #D2E3FC;\n",
              "    }\n",
              "\n",
              "    [theme=dark] .colab-df-convert:hover {\n",
              "      background-color: #434B5C;\n",
              "      box-shadow: 0px 1px 3px 1px rgba(0, 0, 0, 0.15);\n",
              "      filter: drop-shadow(0px 1px 2px rgba(0, 0, 0, 0.3));\n",
              "      fill: #FFFFFF;\n",
              "    }\n",
              "  </style>\n",
              "\n",
              "    <script>\n",
              "      const buttonEl =\n",
              "        document.querySelector('#df-0b139530-9079-42a2-b3ec-75883ef06536 button.colab-df-convert');\n",
              "      buttonEl.style.display =\n",
              "        google.colab.kernel.accessAllowed ? 'block' : 'none';\n",
              "\n",
              "      async function convertToInteractive(key) {\n",
              "        const element = document.querySelector('#df-0b139530-9079-42a2-b3ec-75883ef06536');\n",
              "        const dataTable =\n",
              "          await google.colab.kernel.invokeFunction('convertToInteractive',\n",
              "                                                    [key], {});\n",
              "        if (!dataTable) return;\n",
              "\n",
              "        const docLinkHtml = 'Like what you see? Visit the ' +\n",
              "          '<a target=\"_blank\" href=https://colab.research.google.com/notebooks/data_table.ipynb>data table notebook</a>'\n",
              "          + ' to learn more about interactive tables.';\n",
              "        element.innerHTML = '';\n",
              "        dataTable['output_type'] = 'display_data';\n",
              "        await google.colab.output.renderOutput(dataTable, element);\n",
              "        const docLink = document.createElement('div');\n",
              "        docLink.innerHTML = docLinkHtml;\n",
              "        element.appendChild(docLink);\n",
              "      }\n",
              "    </script>\n",
              "  </div>\n",
              "\n",
              "\n",
              "<div id=\"df-4eede1b9-423a-4432-8b6b-db13651ca758\">\n",
              "  <button class=\"colab-df-quickchart\" onclick=\"quickchart('df-4eede1b9-423a-4432-8b6b-db13651ca758')\"\n",
              "            title=\"Suggest charts\"\n",
              "            style=\"display:none;\">\n",
              "\n",
              "<svg xmlns=\"http://www.w3.org/2000/svg\" height=\"24px\"viewBox=\"0 0 24 24\"\n",
              "     width=\"24px\">\n",
              "    <g>\n",
              "        <path d=\"M19 3H5c-1.1 0-2 .9-2 2v14c0 1.1.9 2 2 2h14c1.1 0 2-.9 2-2V5c0-1.1-.9-2-2-2zM9 17H7v-7h2v7zm4 0h-2V7h2v10zm4 0h-2v-4h2v4z\"/>\n",
              "    </g>\n",
              "</svg>\n",
              "  </button>\n",
              "\n",
              "<style>\n",
              "  .colab-df-quickchart {\n",
              "      --bg-color: #E8F0FE;\n",
              "      --fill-color: #1967D2;\n",
              "      --hover-bg-color: #E2EBFA;\n",
              "      --hover-fill-color: #174EA6;\n",
              "      --disabled-fill-color: #AAA;\n",
              "      --disabled-bg-color: #DDD;\n",
              "  }\n",
              "\n",
              "  [theme=dark] .colab-df-quickchart {\n",
              "      --bg-color: #3B4455;\n",
              "      --fill-color: #D2E3FC;\n",
              "      --hover-bg-color: #434B5C;\n",
              "      --hover-fill-color: #FFFFFF;\n",
              "      --disabled-bg-color: #3B4455;\n",
              "      --disabled-fill-color: #666;\n",
              "  }\n",
              "\n",
              "  .colab-df-quickchart {\n",
              "    background-color: var(--bg-color);\n",
              "    border: none;\n",
              "    border-radius: 50%;\n",
              "    cursor: pointer;\n",
              "    display: none;\n",
              "    fill: var(--fill-color);\n",
              "    height: 32px;\n",
              "    padding: 0;\n",
              "    width: 32px;\n",
              "  }\n",
              "\n",
              "  .colab-df-quickchart:hover {\n",
              "    background-color: var(--hover-bg-color);\n",
              "    box-shadow: 0 1px 2px rgba(60, 64, 67, 0.3), 0 1px 3px 1px rgba(60, 64, 67, 0.15);\n",
              "    fill: var(--button-hover-fill-color);\n",
              "  }\n",
              "\n",
              "  .colab-df-quickchart-complete:disabled,\n",
              "  .colab-df-quickchart-complete:disabled:hover {\n",
              "    background-color: var(--disabled-bg-color);\n",
              "    fill: var(--disabled-fill-color);\n",
              "    box-shadow: none;\n",
              "  }\n",
              "\n",
              "  .colab-df-spinner {\n",
              "    border: 2px solid var(--fill-color);\n",
              "    border-color: transparent;\n",
              "    border-bottom-color: var(--fill-color);\n",
              "    animation:\n",
              "      spin 1s steps(1) infinite;\n",
              "  }\n",
              "\n",
              "  @keyframes spin {\n",
              "    0% {\n",
              "      border-color: transparent;\n",
              "      border-bottom-color: var(--fill-color);\n",
              "      border-left-color: var(--fill-color);\n",
              "    }\n",
              "    20% {\n",
              "      border-color: transparent;\n",
              "      border-left-color: var(--fill-color);\n",
              "      border-top-color: var(--fill-color);\n",
              "    }\n",
              "    30% {\n",
              "      border-color: transparent;\n",
              "      border-left-color: var(--fill-color);\n",
              "      border-top-color: var(--fill-color);\n",
              "      border-right-color: var(--fill-color);\n",
              "    }\n",
              "    40% {\n",
              "      border-color: transparent;\n",
              "      border-right-color: var(--fill-color);\n",
              "      border-top-color: var(--fill-color);\n",
              "    }\n",
              "    60% {\n",
              "      border-color: transparent;\n",
              "      border-right-color: var(--fill-color);\n",
              "    }\n",
              "    80% {\n",
              "      border-color: transparent;\n",
              "      border-right-color: var(--fill-color);\n",
              "      border-bottom-color: var(--fill-color);\n",
              "    }\n",
              "    90% {\n",
              "      border-color: transparent;\n",
              "      border-bottom-color: var(--fill-color);\n",
              "    }\n",
              "  }\n",
              "</style>\n",
              "\n",
              "  <script>\n",
              "    async function quickchart(key) {\n",
              "      const quickchartButtonEl =\n",
              "        document.querySelector('#' + key + ' button');\n",
              "      quickchartButtonEl.disabled = true;  // To prevent multiple clicks.\n",
              "      quickchartButtonEl.classList.add('colab-df-spinner');\n",
              "      try {\n",
              "        const charts = await google.colab.kernel.invokeFunction(\n",
              "            'suggestCharts', [key], {});\n",
              "      } catch (error) {\n",
              "        console.error('Error during call to suggestCharts:', error);\n",
              "      }\n",
              "      quickchartButtonEl.classList.remove('colab-df-spinner');\n",
              "      quickchartButtonEl.classList.add('colab-df-quickchart-complete');\n",
              "    }\n",
              "    (() => {\n",
              "      let quickchartButtonEl =\n",
              "        document.querySelector('#df-4eede1b9-423a-4432-8b6b-db13651ca758 button');\n",
              "      quickchartButtonEl.style.display =\n",
              "        google.colab.kernel.accessAllowed ? 'block' : 'none';\n",
              "    })();\n",
              "  </script>\n",
              "</div>\n",
              "\n",
              "    </div>\n",
              "  </div>\n"
            ],
            "application/vnd.google.colaboratory.intrinsic+json": {
              "type": "dataframe",
              "variable_name": "df",
              "summary": "{\n  \"name\": \"df\",\n  \"rows\": 2775,\n  \"fields\": [\n    {\n      \"column\": \"questionID\",\n      \"properties\": {\n        \"dtype\": \"number\",\n        \"std\": 307,\n        \"min\": 0,\n        \"max\": 939,\n        \"num_unique_values\": 940,\n        \"samples\": [\n          605,\n          63,\n          136\n        ],\n        \"semantic_type\": \"\",\n        \"description\": \"\"\n      }\n    },\n    {\n      \"column\": \"questionTitle\",\n      \"properties\": {\n        \"dtype\": \"category\",\n        \"num_unique_values\": 933,\n        \"samples\": [\n          \"How can I know what my sexual orientation is?\",\n          \"My parents are getting a divorce and I feel depressed\",\n          \"My sister and my husband had an affair\"\n        ],\n        \"semantic_type\": \"\",\n        \"description\": \"\"\n      }\n    },\n    {\n      \"column\": \"questionText\",\n      \"properties\": {\n        \"dtype\": \"category\",\n        \"num_unique_values\": 865,\n        \"samples\": [\n          \"My partner lives in Canada while I live in the US. We visit each other, but we go months in between visits. I have anxiety, and I'm always anxious about him cheating or still having feelings for an ex that he dated for three years. He doesn't understand my anxiety. How do I stop myself from worrying so much?\",\n          \"I've been with him for a couple months. We will talk everyday and he will get mad over something I will say and not talk to me. We have our great moments, but I just need to focus on my personal situations, and I feel he is slowing me down with that. I still wanna be with him, but not now.\",\n          \"She treats me like I'm not in her presence. She\\u2019s always yelling at me for no reason. She gives more respect to my brothers than me, but only my brothers fight her while I respect her.\"\n        ],\n        \"semantic_type\": \"\",\n        \"description\": \"\"\n      }\n    },\n    {\n      \"column\": \"questionLink\",\n      \"properties\": {\n        \"dtype\": \"category\",\n        \"num_unique_values\": 940,\n        \"samples\": [\n          \"https://counselchat.com/questions/why-can-t-i-stop-crying\",\n          \"https://counselchat.com/questions/i-have-long-spurts-of-depression-anxiety-and-need-change-constantly-why\",\n          \"https://counselchat.com/questions/i-hate-talking-to-people-much-less-strangers\"\n        ],\n        \"semantic_type\": \"\",\n        \"description\": \"\"\n      }\n    },\n    {\n      \"column\": \"topic\",\n      \"properties\": {\n        \"dtype\": \"category\",\n        \"num_unique_values\": 31,\n        \"samples\": [\n          \"military-issues\",\n          \"marriage\",\n          \"stress\"\n        ],\n        \"semantic_type\": \"\",\n        \"description\": \"\"\n      }\n    },\n    {\n      \"column\": \"therapistInfo\",\n      \"properties\": {\n        \"dtype\": \"category\",\n        \"num_unique_values\": 437,\n        \"samples\": [\n          \"Lisa Provorny\",\n          \"Adriana DyurichCOUNSELING, WELLNESS, AND CONSULTING for for Moms, moms to be and their children\",\n          \"Amy Fortney ParksChild & Adolescent Psychologist, Parent Coach, Educational Consultant\"\n        ],\n        \"semantic_type\": \"\",\n        \"description\": \"\"\n      }\n    },\n    {\n      \"column\": \"therapistURL\",\n      \"properties\": {\n        \"dtype\": \"category\",\n        \"num_unique_values\": 433,\n        \"samples\": [\n          \"https://counselchat.com/therapists/ida-duplechin\",\n          \"https://counselchat.com/therapists/amelia-mora-mars\",\n          \"https://counselchat.com/therapists/rebecca-wong\"\n        ],\n        \"semantic_type\": \"\",\n        \"description\": \"\"\n      }\n    },\n    {\n      \"column\": \"answerText\",\n      \"properties\": {\n        \"dtype\": \"string\",\n        \"num_unique_values\": 2738,\n        \"samples\": [\n          \"It sounds like you have been thinking about how past hurts have influenced you, and when you try to talk about these hurts with people in your life, you are feeling invalidated. It also sounds like current conflicts are continuing to leave you feeling hurt and devalued. In working with a therapist, you may be able to get some clarity about your past, who you are, and what kinds of boundaries you want in your relationships, so that you can lead a life that is more satisfying to you.\",\n          \"I've heard people say that they cut themselves as a way to feel relief from different emotions. You're also right that when you try to focus on just not cutting, it becomes more difficult because it's what you are focused on. While that is still something to work on, it may also be helpful to find something else you can do instead. You said drawing doesn't work for you. Sometimes more physical activities, such as doing a few jumping jacks, can be helpful. If you don't exercise, it might be something to talk with your doctor about first.The more you can learn about what makes you want to cut, the easier it will be to find out what you could do to change that. Try talking to somebody about what you are feeling in addition to the urge to cut.\",\n          \"You already are doing that! You are reaching out (virtually still counts!). You are accepting your past, you are not denying what happened to you, you are talking about the past. You are already doing a great job of starting this journey. You get your life back by doing things differently.I would think about how you would like to process your past. Do you want to talk to someone? Do you want to write about it? Do you want to pray about it? Do you want to read and research books about trauma? Take some time and think about what you want to do. Think about what would work for you and dive in. I am a Licensed Professional Counselor, so I am biased - but I really believe that counseling works. Having an objective, professional voice that can guide you on this process is so valuable. But please choose what makes you feel comfortable - not what everyone else says. I think you are very brave for reaching out and wanting to work on this. That takes a tremendous amount of courage and strength.\"\n        ],\n        \"semantic_type\": \"\",\n        \"description\": \"\"\n      }\n    },\n    {\n      \"column\": \"upvotes\",\n      \"properties\": {\n        \"dtype\": \"number\",\n        \"std\": 1,\n        \"min\": 0,\n        \"max\": 12,\n        \"num_unique_values\": 11,\n        \"samples\": [\n          4,\n          3,\n          10\n        ],\n        \"semantic_type\": \"\",\n        \"description\": \"\"\n      }\n    },\n    {\n      \"column\": \"views\",\n      \"properties\": {\n        \"dtype\": \"number\",\n        \"std\": 796,\n        \"min\": 1,\n        \"max\": 16738,\n        \"num_unique_values\": 732,\n        \"samples\": [\n          387,\n          187,\n          30\n        ],\n        \"semantic_type\": \"\",\n        \"description\": \"\"\n      }\n    }\n  ]\n}"
            }
          },
          "metadata": {},
          "execution_count": 8
        }
      ]
    },
    {
      "cell_type": "code",
      "source": [
        "# null값 확인\n",
        "df.isnull().sum()"
      ],
      "metadata": {
        "colab": {
          "base_uri": "https://localhost:8080/",
          "height": 398
        },
        "id": "Pwwv894gP3u2",
        "outputId": "3464a6a6-aee2-44e2-b5db-f76e9dc3c0a6"
      },
      "id": "Pwwv894gP3u2",
      "execution_count": null,
      "outputs": [
        {
          "output_type": "execute_result",
          "data": {
            "text/plain": [
              "questionID         0\n",
              "questionTitle      0\n",
              "questionText     139\n",
              "questionLink       0\n",
              "topic              0\n",
              "therapistInfo      0\n",
              "therapistURL       0\n",
              "answerText        26\n",
              "upvotes            0\n",
              "views              0\n",
              "dtype: int64"
            ],
            "text/html": [
              "<div>\n",
              "<style scoped>\n",
              "    .dataframe tbody tr th:only-of-type {\n",
              "        vertical-align: middle;\n",
              "    }\n",
              "\n",
              "    .dataframe tbody tr th {\n",
              "        vertical-align: top;\n",
              "    }\n",
              "\n",
              "    .dataframe thead th {\n",
              "        text-align: right;\n",
              "    }\n",
              "</style>\n",
              "<table border=\"1\" class=\"dataframe\">\n",
              "  <thead>\n",
              "    <tr style=\"text-align: right;\">\n",
              "      <th></th>\n",
              "      <th>0</th>\n",
              "    </tr>\n",
              "  </thead>\n",
              "  <tbody>\n",
              "    <tr>\n",
              "      <th>questionID</th>\n",
              "      <td>0</td>\n",
              "    </tr>\n",
              "    <tr>\n",
              "      <th>questionTitle</th>\n",
              "      <td>0</td>\n",
              "    </tr>\n",
              "    <tr>\n",
              "      <th>questionText</th>\n",
              "      <td>139</td>\n",
              "    </tr>\n",
              "    <tr>\n",
              "      <th>questionLink</th>\n",
              "      <td>0</td>\n",
              "    </tr>\n",
              "    <tr>\n",
              "      <th>topic</th>\n",
              "      <td>0</td>\n",
              "    </tr>\n",
              "    <tr>\n",
              "      <th>therapistInfo</th>\n",
              "      <td>0</td>\n",
              "    </tr>\n",
              "    <tr>\n",
              "      <th>therapistURL</th>\n",
              "      <td>0</td>\n",
              "    </tr>\n",
              "    <tr>\n",
              "      <th>answerText</th>\n",
              "      <td>26</td>\n",
              "    </tr>\n",
              "    <tr>\n",
              "      <th>upvotes</th>\n",
              "      <td>0</td>\n",
              "    </tr>\n",
              "    <tr>\n",
              "      <th>views</th>\n",
              "      <td>0</td>\n",
              "    </tr>\n",
              "  </tbody>\n",
              "</table>\n",
              "</div><br><label><b>dtype:</b> int64</label>"
            ]
          },
          "metadata": {},
          "execution_count": 69
        }
      ]
    },
    {
      "cell_type": "code",
      "source": [
        "# null값 삭제한 최종 df 생성\n",
        "final_df = df.dropna(axis=0)\n",
        "final_df.isnull().sum()"
      ],
      "metadata": {
        "colab": {
          "base_uri": "https://localhost:8080/",
          "height": 398
        },
        "id": "YmuMQyqkRtKY",
        "outputId": "7b939137-60be-4c49-cf07-29b0d90f8cda"
      },
      "id": "YmuMQyqkRtKY",
      "execution_count": null,
      "outputs": [
        {
          "output_type": "execute_result",
          "data": {
            "text/plain": [
              "questionID       0\n",
              "questionTitle    0\n",
              "questionText     0\n",
              "questionLink     0\n",
              "topic            0\n",
              "therapistInfo    0\n",
              "therapistURL     0\n",
              "answerText       0\n",
              "upvotes          0\n",
              "views            0\n",
              "dtype: int64"
            ],
            "text/html": [
              "<div>\n",
              "<style scoped>\n",
              "    .dataframe tbody tr th:only-of-type {\n",
              "        vertical-align: middle;\n",
              "    }\n",
              "\n",
              "    .dataframe tbody tr th {\n",
              "        vertical-align: top;\n",
              "    }\n",
              "\n",
              "    .dataframe thead th {\n",
              "        text-align: right;\n",
              "    }\n",
              "</style>\n",
              "<table border=\"1\" class=\"dataframe\">\n",
              "  <thead>\n",
              "    <tr style=\"text-align: right;\">\n",
              "      <th></th>\n",
              "      <th>0</th>\n",
              "    </tr>\n",
              "  </thead>\n",
              "  <tbody>\n",
              "    <tr>\n",
              "      <th>questionID</th>\n",
              "      <td>0</td>\n",
              "    </tr>\n",
              "    <tr>\n",
              "      <th>questionTitle</th>\n",
              "      <td>0</td>\n",
              "    </tr>\n",
              "    <tr>\n",
              "      <th>questionText</th>\n",
              "      <td>0</td>\n",
              "    </tr>\n",
              "    <tr>\n",
              "      <th>questionLink</th>\n",
              "      <td>0</td>\n",
              "    </tr>\n",
              "    <tr>\n",
              "      <th>topic</th>\n",
              "      <td>0</td>\n",
              "    </tr>\n",
              "    <tr>\n",
              "      <th>therapistInfo</th>\n",
              "      <td>0</td>\n",
              "    </tr>\n",
              "    <tr>\n",
              "      <th>therapistURL</th>\n",
              "      <td>0</td>\n",
              "    </tr>\n",
              "    <tr>\n",
              "      <th>answerText</th>\n",
              "      <td>0</td>\n",
              "    </tr>\n",
              "    <tr>\n",
              "      <th>upvotes</th>\n",
              "      <td>0</td>\n",
              "    </tr>\n",
              "    <tr>\n",
              "      <th>views</th>\n",
              "      <td>0</td>\n",
              "    </tr>\n",
              "  </tbody>\n",
              "</table>\n",
              "</div><br><label><b>dtype:</b> int64</label>"
            ]
          },
          "metadata": {},
          "execution_count": 72
        }
      ]
    },
    {
      "cell_type": "code",
      "source": [
        "final_df.head()"
      ],
      "metadata": {
        "colab": {
          "base_uri": "https://localhost:8080/",
          "height": 539
        },
        "id": "alMtBvtbR_G7",
        "outputId": "3464b801-16c1-412d-abb9-d67628c4a303"
      },
      "id": "alMtBvtbR_G7",
      "execution_count": null,
      "outputs": [
        {
          "output_type": "execute_result",
          "data": {
            "text/plain": [
              "   questionID                              questionTitle  \\\n",
              "0           0  Do I have too many issues for counseling?   \n",
              "1           0  Do I have too many issues for counseling?   \n",
              "2           0  Do I have too many issues for counseling?   \n",
              "3           0  Do I have too many issues for counseling?   \n",
              "4           0  Do I have too many issues for counseling?   \n",
              "\n",
              "                                        questionText  \\\n",
              "0  I have so many issues to address. I have a his...   \n",
              "1  I have so many issues to address. I have a his...   \n",
              "2  I have so many issues to address. I have a his...   \n",
              "3  I have so many issues to address. I have a his...   \n",
              "4  I have so many issues to address. I have a his...   \n",
              "\n",
              "                                        questionLink       topic  \\\n",
              "0  https://counselchat.com/questions/do-i-have-to...  depression   \n",
              "1  https://counselchat.com/questions/do-i-have-to...  depression   \n",
              "2  https://counselchat.com/questions/do-i-have-to...  depression   \n",
              "3  https://counselchat.com/questions/do-i-have-to...  depression   \n",
              "4  https://counselchat.com/questions/do-i-have-to...  depression   \n",
              "\n",
              "                                       therapistInfo  \\\n",
              "0  Jennifer MolinariHypnotherapist & Licensed Cou...   \n",
              "1  Jason Lynch, MS, LMHC, LCAC, ADSIndividual & C...   \n",
              "2  Shakeeta TorresFaith Based Mental Health Couns...   \n",
              "3  Noorayne ChevalierMA, RP, CCC, CCAC, LLP (Mich...   \n",
              "4  Toni Teixeira, LCSWYour road to healing begins...   \n",
              "\n",
              "                                        therapistURL  \\\n",
              "0  https://counselchat.com/therapists/jennifer-mo...   \n",
              "1  https://counselchat.com/therapists/jason-lynch...   \n",
              "2  https://counselchat.com/therapists/shakeeta-to...   \n",
              "3  https://counselchat.com/therapists/noorayne-ch...   \n",
              "4  https://counselchat.com/therapists/toni-teixei...   \n",
              "\n",
              "                                          answerText  upvotes  views  \n",
              "0  It is very common for people to have multiple ...        3   1971  \n",
              "1  I've never heard of someone having \"too many i...        2    386  \n",
              "2  Absolutely not.  I strongly recommending worki...        2   3071  \n",
              "3  Let me start by saying there are never too man...        2   2643  \n",
              "4  I just want to acknowledge you for the courage...        1    256  "
            ],
            "text/html": [
              "\n",
              "  <div id=\"df-a515de6c-1ecd-42ac-86be-8b1515eecdd2\" class=\"colab-df-container\">\n",
              "    <div>\n",
              "<style scoped>\n",
              "    .dataframe tbody tr th:only-of-type {\n",
              "        vertical-align: middle;\n",
              "    }\n",
              "\n",
              "    .dataframe tbody tr th {\n",
              "        vertical-align: top;\n",
              "    }\n",
              "\n",
              "    .dataframe thead th {\n",
              "        text-align: right;\n",
              "    }\n",
              "</style>\n",
              "<table border=\"1\" class=\"dataframe\">\n",
              "  <thead>\n",
              "    <tr style=\"text-align: right;\">\n",
              "      <th></th>\n",
              "      <th>questionID</th>\n",
              "      <th>questionTitle</th>\n",
              "      <th>questionText</th>\n",
              "      <th>questionLink</th>\n",
              "      <th>topic</th>\n",
              "      <th>therapistInfo</th>\n",
              "      <th>therapistURL</th>\n",
              "      <th>answerText</th>\n",
              "      <th>upvotes</th>\n",
              "      <th>views</th>\n",
              "    </tr>\n",
              "  </thead>\n",
              "  <tbody>\n",
              "    <tr>\n",
              "      <th>0</th>\n",
              "      <td>0</td>\n",
              "      <td>Do I have too many issues for counseling?</td>\n",
              "      <td>I have so many issues to address. I have a his...</td>\n",
              "      <td>https://counselchat.com/questions/do-i-have-to...</td>\n",
              "      <td>depression</td>\n",
              "      <td>Jennifer MolinariHypnotherapist &amp; Licensed Cou...</td>\n",
              "      <td>https://counselchat.com/therapists/jennifer-mo...</td>\n",
              "      <td>It is very common for people to have multiple ...</td>\n",
              "      <td>3</td>\n",
              "      <td>1971</td>\n",
              "    </tr>\n",
              "    <tr>\n",
              "      <th>1</th>\n",
              "      <td>0</td>\n",
              "      <td>Do I have too many issues for counseling?</td>\n",
              "      <td>I have so many issues to address. I have a his...</td>\n",
              "      <td>https://counselchat.com/questions/do-i-have-to...</td>\n",
              "      <td>depression</td>\n",
              "      <td>Jason Lynch, MS, LMHC, LCAC, ADSIndividual &amp; C...</td>\n",
              "      <td>https://counselchat.com/therapists/jason-lynch...</td>\n",
              "      <td>I've never heard of someone having \"too many i...</td>\n",
              "      <td>2</td>\n",
              "      <td>386</td>\n",
              "    </tr>\n",
              "    <tr>\n",
              "      <th>2</th>\n",
              "      <td>0</td>\n",
              "      <td>Do I have too many issues for counseling?</td>\n",
              "      <td>I have so many issues to address. I have a his...</td>\n",
              "      <td>https://counselchat.com/questions/do-i-have-to...</td>\n",
              "      <td>depression</td>\n",
              "      <td>Shakeeta TorresFaith Based Mental Health Couns...</td>\n",
              "      <td>https://counselchat.com/therapists/shakeeta-to...</td>\n",
              "      <td>Absolutely not.  I strongly recommending worki...</td>\n",
              "      <td>2</td>\n",
              "      <td>3071</td>\n",
              "    </tr>\n",
              "    <tr>\n",
              "      <th>3</th>\n",
              "      <td>0</td>\n",
              "      <td>Do I have too many issues for counseling?</td>\n",
              "      <td>I have so many issues to address. I have a his...</td>\n",
              "      <td>https://counselchat.com/questions/do-i-have-to...</td>\n",
              "      <td>depression</td>\n",
              "      <td>Noorayne ChevalierMA, RP, CCC, CCAC, LLP (Mich...</td>\n",
              "      <td>https://counselchat.com/therapists/noorayne-ch...</td>\n",
              "      <td>Let me start by saying there are never too man...</td>\n",
              "      <td>2</td>\n",
              "      <td>2643</td>\n",
              "    </tr>\n",
              "    <tr>\n",
              "      <th>4</th>\n",
              "      <td>0</td>\n",
              "      <td>Do I have too many issues for counseling?</td>\n",
              "      <td>I have so many issues to address. I have a his...</td>\n",
              "      <td>https://counselchat.com/questions/do-i-have-to...</td>\n",
              "      <td>depression</td>\n",
              "      <td>Toni Teixeira, LCSWYour road to healing begins...</td>\n",
              "      <td>https://counselchat.com/therapists/toni-teixei...</td>\n",
              "      <td>I just want to acknowledge you for the courage...</td>\n",
              "      <td>1</td>\n",
              "      <td>256</td>\n",
              "    </tr>\n",
              "  </tbody>\n",
              "</table>\n",
              "</div>\n",
              "    <div class=\"colab-df-buttons\">\n",
              "\n",
              "  <div class=\"colab-df-container\">\n",
              "    <button class=\"colab-df-convert\" onclick=\"convertToInteractive('df-a515de6c-1ecd-42ac-86be-8b1515eecdd2')\"\n",
              "            title=\"Convert this dataframe to an interactive table.\"\n",
              "            style=\"display:none;\">\n",
              "\n",
              "  <svg xmlns=\"http://www.w3.org/2000/svg\" height=\"24px\" viewBox=\"0 -960 960 960\">\n",
              "    <path d=\"M120-120v-720h720v720H120Zm60-500h600v-160H180v160Zm220 220h160v-160H400v160Zm0 220h160v-160H400v160ZM180-400h160v-160H180v160Zm440 0h160v-160H620v160ZM180-180h160v-160H180v160Zm440 0h160v-160H620v160Z\"/>\n",
              "  </svg>\n",
              "    </button>\n",
              "\n",
              "  <style>\n",
              "    .colab-df-container {\n",
              "      display:flex;\n",
              "      gap: 12px;\n",
              "    }\n",
              "\n",
              "    .colab-df-convert {\n",
              "      background-color: #E8F0FE;\n",
              "      border: none;\n",
              "      border-radius: 50%;\n",
              "      cursor: pointer;\n",
              "      display: none;\n",
              "      fill: #1967D2;\n",
              "      height: 32px;\n",
              "      padding: 0 0 0 0;\n",
              "      width: 32px;\n",
              "    }\n",
              "\n",
              "    .colab-df-convert:hover {\n",
              "      background-color: #E2EBFA;\n",
              "      box-shadow: 0px 1px 2px rgba(60, 64, 67, 0.3), 0px 1px 3px 1px rgba(60, 64, 67, 0.15);\n",
              "      fill: #174EA6;\n",
              "    }\n",
              "\n",
              "    .colab-df-buttons div {\n",
              "      margin-bottom: 4px;\n",
              "    }\n",
              "\n",
              "    [theme=dark] .colab-df-convert {\n",
              "      background-color: #3B4455;\n",
              "      fill: #D2E3FC;\n",
              "    }\n",
              "\n",
              "    [theme=dark] .colab-df-convert:hover {\n",
              "      background-color: #434B5C;\n",
              "      box-shadow: 0px 1px 3px 1px rgba(0, 0, 0, 0.15);\n",
              "      filter: drop-shadow(0px 1px 2px rgba(0, 0, 0, 0.3));\n",
              "      fill: #FFFFFF;\n",
              "    }\n",
              "  </style>\n",
              "\n",
              "    <script>\n",
              "      const buttonEl =\n",
              "        document.querySelector('#df-a515de6c-1ecd-42ac-86be-8b1515eecdd2 button.colab-df-convert');\n",
              "      buttonEl.style.display =\n",
              "        google.colab.kernel.accessAllowed ? 'block' : 'none';\n",
              "\n",
              "      async function convertToInteractive(key) {\n",
              "        const element = document.querySelector('#df-a515de6c-1ecd-42ac-86be-8b1515eecdd2');\n",
              "        const dataTable =\n",
              "          await google.colab.kernel.invokeFunction('convertToInteractive',\n",
              "                                                    [key], {});\n",
              "        if (!dataTable) return;\n",
              "\n",
              "        const docLinkHtml = 'Like what you see? Visit the ' +\n",
              "          '<a target=\"_blank\" href=https://colab.research.google.com/notebooks/data_table.ipynb>data table notebook</a>'\n",
              "          + ' to learn more about interactive tables.';\n",
              "        element.innerHTML = '';\n",
              "        dataTable['output_type'] = 'display_data';\n",
              "        await google.colab.output.renderOutput(dataTable, element);\n",
              "        const docLink = document.createElement('div');\n",
              "        docLink.innerHTML = docLinkHtml;\n",
              "        element.appendChild(docLink);\n",
              "      }\n",
              "    </script>\n",
              "  </div>\n",
              "\n",
              "\n",
              "<div id=\"df-0ea81a69-b0a5-4e3f-8739-7a7b56512ebe\">\n",
              "  <button class=\"colab-df-quickchart\" onclick=\"quickchart('df-0ea81a69-b0a5-4e3f-8739-7a7b56512ebe')\"\n",
              "            title=\"Suggest charts\"\n",
              "            style=\"display:none;\">\n",
              "\n",
              "<svg xmlns=\"http://www.w3.org/2000/svg\" height=\"24px\"viewBox=\"0 0 24 24\"\n",
              "     width=\"24px\">\n",
              "    <g>\n",
              "        <path d=\"M19 3H5c-1.1 0-2 .9-2 2v14c0 1.1.9 2 2 2h14c1.1 0 2-.9 2-2V5c0-1.1-.9-2-2-2zM9 17H7v-7h2v7zm4 0h-2V7h2v10zm4 0h-2v-4h2v4z\"/>\n",
              "    </g>\n",
              "</svg>\n",
              "  </button>\n",
              "\n",
              "<style>\n",
              "  .colab-df-quickchart {\n",
              "      --bg-color: #E8F0FE;\n",
              "      --fill-color: #1967D2;\n",
              "      --hover-bg-color: #E2EBFA;\n",
              "      --hover-fill-color: #174EA6;\n",
              "      --disabled-fill-color: #AAA;\n",
              "      --disabled-bg-color: #DDD;\n",
              "  }\n",
              "\n",
              "  [theme=dark] .colab-df-quickchart {\n",
              "      --bg-color: #3B4455;\n",
              "      --fill-color: #D2E3FC;\n",
              "      --hover-bg-color: #434B5C;\n",
              "      --hover-fill-color: #FFFFFF;\n",
              "      --disabled-bg-color: #3B4455;\n",
              "      --disabled-fill-color: #666;\n",
              "  }\n",
              "\n",
              "  .colab-df-quickchart {\n",
              "    background-color: var(--bg-color);\n",
              "    border: none;\n",
              "    border-radius: 50%;\n",
              "    cursor: pointer;\n",
              "    display: none;\n",
              "    fill: var(--fill-color);\n",
              "    height: 32px;\n",
              "    padding: 0;\n",
              "    width: 32px;\n",
              "  }\n",
              "\n",
              "  .colab-df-quickchart:hover {\n",
              "    background-color: var(--hover-bg-color);\n",
              "    box-shadow: 0 1px 2px rgba(60, 64, 67, 0.3), 0 1px 3px 1px rgba(60, 64, 67, 0.15);\n",
              "    fill: var(--button-hover-fill-color);\n",
              "  }\n",
              "\n",
              "  .colab-df-quickchart-complete:disabled,\n",
              "  .colab-df-quickchart-complete:disabled:hover {\n",
              "    background-color: var(--disabled-bg-color);\n",
              "    fill: var(--disabled-fill-color);\n",
              "    box-shadow: none;\n",
              "  }\n",
              "\n",
              "  .colab-df-spinner {\n",
              "    border: 2px solid var(--fill-color);\n",
              "    border-color: transparent;\n",
              "    border-bottom-color: var(--fill-color);\n",
              "    animation:\n",
              "      spin 1s steps(1) infinite;\n",
              "  }\n",
              "\n",
              "  @keyframes spin {\n",
              "    0% {\n",
              "      border-color: transparent;\n",
              "      border-bottom-color: var(--fill-color);\n",
              "      border-left-color: var(--fill-color);\n",
              "    }\n",
              "    20% {\n",
              "      border-color: transparent;\n",
              "      border-left-color: var(--fill-color);\n",
              "      border-top-color: var(--fill-color);\n",
              "    }\n",
              "    30% {\n",
              "      border-color: transparent;\n",
              "      border-left-color: var(--fill-color);\n",
              "      border-top-color: var(--fill-color);\n",
              "      border-right-color: var(--fill-color);\n",
              "    }\n",
              "    40% {\n",
              "      border-color: transparent;\n",
              "      border-right-color: var(--fill-color);\n",
              "      border-top-color: var(--fill-color);\n",
              "    }\n",
              "    60% {\n",
              "      border-color: transparent;\n",
              "      border-right-color: var(--fill-color);\n",
              "    }\n",
              "    80% {\n",
              "      border-color: transparent;\n",
              "      border-right-color: var(--fill-color);\n",
              "      border-bottom-color: var(--fill-color);\n",
              "    }\n",
              "    90% {\n",
              "      border-color: transparent;\n",
              "      border-bottom-color: var(--fill-color);\n",
              "    }\n",
              "  }\n",
              "</style>\n",
              "\n",
              "  <script>\n",
              "    async function quickchart(key) {\n",
              "      const quickchartButtonEl =\n",
              "        document.querySelector('#' + key + ' button');\n",
              "      quickchartButtonEl.disabled = true;  // To prevent multiple clicks.\n",
              "      quickchartButtonEl.classList.add('colab-df-spinner');\n",
              "      try {\n",
              "        const charts = await google.colab.kernel.invokeFunction(\n",
              "            'suggestCharts', [key], {});\n",
              "      } catch (error) {\n",
              "        console.error('Error during call to suggestCharts:', error);\n",
              "      }\n",
              "      quickchartButtonEl.classList.remove('colab-df-spinner');\n",
              "      quickchartButtonEl.classList.add('colab-df-quickchart-complete');\n",
              "    }\n",
              "    (() => {\n",
              "      let quickchartButtonEl =\n",
              "        document.querySelector('#df-0ea81a69-b0a5-4e3f-8739-7a7b56512ebe button');\n",
              "      quickchartButtonEl.style.display =\n",
              "        google.colab.kernel.accessAllowed ? 'block' : 'none';\n",
              "    })();\n",
              "  </script>\n",
              "</div>\n",
              "\n",
              "    </div>\n",
              "  </div>\n"
            ],
            "application/vnd.google.colaboratory.intrinsic+json": {
              "type": "dataframe",
              "variable_name": "final_df",
              "summary": "{\n  \"name\": \"final_df\",\n  \"rows\": 2612,\n  \"fields\": [\n    {\n      \"column\": \"questionID\",\n      \"properties\": {\n        \"dtype\": \"number\",\n        \"std\": 308,\n        \"min\": 0,\n        \"max\": 939,\n        \"num_unique_values\": 863,\n        \"samples\": [\n          766,\n          650,\n          125\n        ],\n        \"semantic_type\": \"\",\n        \"description\": \"\"\n      }\n    },\n    {\n      \"column\": \"questionTitle\",\n      \"properties\": {\n        \"dtype\": \"category\",\n        \"num_unique_values\": 857,\n        \"samples\": [\n          \"Is it time to end my relationship with my boyfriend for good?\",\n          \"How can I create a better relationship with my adoptive mother?\",\n          \"I'm scared to go to a doctor or take anti-depressants\"\n        ],\n        \"semantic_type\": \"\",\n        \"description\": \"\"\n      }\n    },\n    {\n      \"column\": \"questionText\",\n      \"properties\": {\n        \"dtype\": \"category\",\n        \"num_unique_values\": 863,\n        \"samples\": [\n          \"I am currently suffering from erectile dysfunction and have tried Viagra, Cialis, etc. Nothing seemed to work. My girlfriend of 3 years is very sexually frustrated. I told her that it is okay for her to have sex with other men. Is that really okay?\",\n          \"For the past week or so me and my boyfriend have been fighting. He has been making a lot of bad choices and he is currently hospitalized. I'm barely eating or sleeping because I'm constantly worried about him. Everyone else in my life says that I should just forget about him and walk away. What should I do?\",\n          \"I am in high school and have been facing anxiety issues lately. Whenever I get close to being in a relationship, some kind of anxiety takes over and keeps me from the relationship. This anxiety causes me depression at times and even makes me want to vomit. While a semi-relationship should be joyous, for me, it\\u2019s an emotional nightmare I can\\u2019t get to the bottom of. I\\u2019ve had this before and had to leave the semi-relationship to avoid throwing up every time I made contact with my crush. What could be the reason behind this? Is it massive nerve problems? Is it a fear of a bad relationship?\\n   While I\\u2019m not quite ready to be in one anyway, I want to get to the bottom of this for a brighter future in which I can be in one. I don\\u2019t take medications and have no desire to, I have read forums, and I\\u2019ve talked about the issue with my sister who has faced similar problems.\"\n        ],\n        \"semantic_type\": \"\",\n        \"description\": \"\"\n      }\n    },\n    {\n      \"column\": \"questionLink\",\n      \"properties\": {\n        \"dtype\": \"category\",\n        \"num_unique_values\": 863,\n        \"samples\": [\n          \"https://counselchat.com/questions/is-it-okay-for-my-girlfriend-to-have-sex-with-other-men-since-i-can-t-sexually-perform\",\n          \"https://counselchat.com/questions/how-do-i-choose-the-right-path-with-my-boyfriend\",\n          \"https://counselchat.com/questions/relationships-cause-me-anxiety-and-nausea\"\n        ],\n        \"semantic_type\": \"\",\n        \"description\": \"\"\n      }\n    },\n    {\n      \"column\": \"topic\",\n      \"properties\": {\n        \"dtype\": \"category\",\n        \"num_unique_values\": 30,\n        \"samples\": [\n          \"military-issues\",\n          \"marriage\",\n          \"stress\"\n        ],\n        \"semantic_type\": \"\",\n        \"description\": \"\"\n      }\n    },\n    {\n      \"column\": \"therapistInfo\",\n      \"properties\": {\n        \"dtype\": \"category\",\n        \"num_unique_values\": 426,\n        \"samples\": [\n          \"Ida Duplechin\",\n          \"Amelia Mora MarsHi, I'm Amelia. I help overwhelmed, stressed out teen girls and women find peace again.\",\n          \"Christopher SmithPresident and Clinical Director, Seeking Shalom\"\n        ],\n        \"semantic_type\": \"\",\n        \"description\": \"\"\n      }\n    },\n    {\n      \"column\": \"therapistURL\",\n      \"properties\": {\n        \"dtype\": \"category\",\n        \"num_unique_values\": 423,\n        \"samples\": [\n          \"https://counselchat.com/therapists/nakisia-mcdaniel\",\n          \"https://counselchat.com/therapists/amber-madden-ma-lpca\",\n          \"https://counselchat.com/therapists/christopher-smith\"\n        ],\n        \"semantic_type\": \"\",\n        \"description\": \"\"\n      }\n    },\n    {\n      \"column\": \"answerText\",\n      \"properties\": {\n        \"dtype\": \"string\",\n        \"num_unique_values\": 2603,\n        \"samples\": [\n          \"One of the greatest ways that we can promote ourselves s by learning how to assert ourselves. \\u00a0Despite what most people think of when they hear the word assertive, assertive communication is one of the best ways to manage interpersonal conflict as well as maintain personal boundaries. \\u00a0Once we become comfortable with acknowledging our boundaries, there is usually a follow-up whereby we realize that we have the right to those boundaries. \\u00a0In effect, assertiveness communication becomes it's own self-motivating force in managing positive self-esteem. You may want to invest in a workbook that can help you to develop these skills on your own, or work directly with a therapist to develop them in a safe situation. \\u00a0 One of the Workbooks that I have found to be very helpful is, \\\"The Assertiveness Workbook: How to Express your Ideas and Stand Up for Yourself at Work and in Relationships\\\" by Randy J Paterson.\",\n          \"If the daughters are old & mature enough to understand substance abuse. \\u00a0They should be told for their own empowerment. KNOWLEDGE is their power of safety and protection.\",\n          \"Hello, and thank you for your question. Being bisexual can be particularly\\ndifficult because it is often misunderstood, even by people who are \\u201csupposed\\u201d\\nto be part of your own community, such as lesbians and gays. It happens so\\noften that there is actually a term for it \\u2013\\u00a0\\nbi-erasure. This is simply something that happens when people deny that\\nbisexuality is a real thing, or discriminate against bisexuals due to beliefs\\nlike your parents seem to have. \\nThe unfortunate truth is that you can never\\nbe sure of how you parents may take this kind of information. It sounds\\npromising that they are accepting of other sexual orientations, and it may\\nsimply be that your parents lack education about bisexuality. With accurate\\ninformation, they may come around, but there is no way to be sure. \\nSome of my colleagues have already given you good information. Here are some more\\u00a0things that you can consider\\nand questions you can ask yourself before making the decision to tell them:\\n\\u00a0\\n1.\\u00a0\\u00a0\\u00a0\\u00a0\\u00a0 If they don\\u2019t respond the way you want them to, have you developed a support\\nsystem to support you through it? This is very important. The truth is that all\\nthe friends in the world won\\u2019t prevent pain or sadness if your parents don\\u2019t\\nrespond as you hope, but they will at least be there to remind you that you ARE\\nokay as you are. And that is critical for you to remember. \\n\\u00a0\\n2.\\u00a0\\u00a0\\u00a0\\u00a0\\u00a0 There is great information on the internet about bisexuality that you can\\noffer your parents if you think it would be helpful. It may be important for\\nthem to know the kind of damage that is being done to bisexual adults and young\\npeople because of the myths surrounding bisexuality. Here is an article from\\nGLAAD about bi-erasure: http://www.glaad.org/bisexual/bierasure\\n\\u00a0\\n3.\\u00a0\\u00a0\\u00a0\\u00a0\\u00a0 Coming out to people is obviously deeply personal and should only take\\nplace when you are ready. Sometimes people get pressured from friends, media,\\nand even people they are romantically involved with to come out before they are\\nready. It really is up to you. If you are feeling pressure from others, don\\u2019t\\nfeel bad about setting your boundaries and telling them that you will come out\\non your own time. Intimate partners should respect you enough to understand\\nthis. \\n\\u00a0\\n4.\\u00a0\\u00a0\\u00a0\\u00a0\\u00a0 Something else to think about is your own comfort in being bisexual. Just\\nbecause someone is LGBTQ doesn\\u2019t mean that they necessarily want to be. Many\\npeople struggle with this. Having\\nyour own doubts or insecurities may also play a part in how comfortable you are\\nin telling your parents. So, perhaps do some self-exploration about your\\nfeelings toward yourself. \\n\\u00a0\\nSometimes people take friends with them\\nwhen they decide to come out to their parents. This is something you may want\\nto consider. The important thing to remember is that you are okay. Really. If\\nyour parents don\\u2019t respond well, that doesn\\u2019t mean that they never will. Some\\nstart off upset, but then work their way through it. \\nBest of luck to you. \\nRobin J. Landwehr, DBH, LPC, NCC\"\n        ],\n        \"semantic_type\": \"\",\n        \"description\": \"\"\n      }\n    },\n    {\n      \"column\": \"upvotes\",\n      \"properties\": {\n        \"dtype\": \"number\",\n        \"std\": 1,\n        \"min\": 0,\n        \"max\": 12,\n        \"num_unique_values\": 11,\n        \"samples\": [\n          4,\n          3,\n          10\n        ],\n        \"semantic_type\": \"\",\n        \"description\": \"\"\n      }\n    },\n    {\n      \"column\": \"views\",\n      \"properties\": {\n        \"dtype\": \"number\",\n        \"std\": 805,\n        \"min\": 1,\n        \"max\": 16738,\n        \"num_unique_values\": 712,\n        \"samples\": [\n          1753,\n          321,\n          393\n        ],\n        \"semantic_type\": \"\",\n        \"description\": \"\"\n      }\n    }\n  ]\n}"
            }
          },
          "metadata": {},
          "execution_count": 74
        }
      ]
    },
    {
      "cell_type": "code",
      "source": [
        "# df.shape[0]\n",
        "len(final_df)"
      ],
      "metadata": {
        "colab": {
          "base_uri": "https://localhost:8080/"
        },
        "id": "i2U8HywSEPov",
        "outputId": "9d3ada6f-02b2-4bd1-a798-8be57a9bbd6b"
      },
      "id": "i2U8HywSEPov",
      "execution_count": null,
      "outputs": [
        {
          "output_type": "execute_result",
          "data": {
            "text/plain": [
              "2612"
            ]
          },
          "metadata": {},
          "execution_count": 73
        }
      ]
    },
    {
      "cell_type": "markdown",
      "id": "2b3151e9-8715-47bd-a153-195d6a0d0a70",
      "metadata": {
        "id": "2b3151e9-8715-47bd-a153-195d6a0d0a70"
      },
      "source": [
        "## Data preparation\n"
      ]
    },
    {
      "cell_type": "code",
      "execution_count": null,
      "id": "9a8216b0-d1dc-472d-b07d-1be03acd70a5",
      "metadata": {
        "id": "9a8216b0-d1dc-472d-b07d-1be03acd70a5",
        "outputId": "cb874d98-b50d-4fe7-c7d0-1681f1cea933",
        "colab": {
          "base_uri": "https://localhost:8080/"
        }
      },
      "outputs": [
        {
          "output_type": "stream",
          "name": "stdout",
          "text": [
            "{'messages': [{'content': 'You are a supportive mental health therapists. You '\n",
            "                          'are to provide supportive responses to people who '\n",
            "                          'suffer from mental health issues.',\n",
            "               'role': 'system'},\n",
            "              {'content': 'Title: Do I have too many issues for counseling?\\n'\n",
            "                          '\\n'\n",
            "                          'questionTitle: I have so many issues to address. I '\n",
            "                          'have a history of sexual abuse, I’m a breast cancer '\n",
            "                          'survivor and I am a lifetime insomniac.    I have a '\n",
            "                          'long history of depression and I’m beginning to '\n",
            "                          'have anxiety. I have low self esteem but I’ve been '\n",
            "                          'happily married for almost 35 years.\\n'\n",
            "                          '   I’ve never had counseling about any of this. Do '\n",
            "                          'I have too many issues to address in counseling?\\n'\n",
            "                          '\\n'\n",
            "                          'questionText: ',\n",
            "               'role': 'user'},\n",
            "              {'content': 'It is very common for\\xa0people to have multiple '\n",
            "                          'issues that they want to (and need to) address in '\n",
            "                          'counseling.\\xa0 I have had clients ask that same '\n",
            "                          'question and through more exploration, there is '\n",
            "                          'often an underlying fear that they\\xa0 \"can\\'t be '\n",
            "                          'helped\" or that they will \"be too much for their '\n",
            "                          'therapist.\" I don\\'t know if any of this rings true '\n",
            "                          'for you. But, most people have more than one '\n",
            "                          'problem in their lives and more often than not,\\xa0 '\n",
            "                          'people have numerous significant stressors in their '\n",
            "                          \"lives.\\xa0 Let's face it, life can be complicated! \"\n",
            "                          'Therapists are completely ready and equipped to '\n",
            "                          'handle all of the issues small or large that a '\n",
            "                          'client presents in session. Most therapists over '\n",
            "                          'the first couple of sessions will help you '\n",
            "                          'prioritize the issues you are facing so that you '\n",
            "                          'start addressing the issues that are causing you '\n",
            "                          'the most distress.\\xa0 You can never have too many '\n",
            "                          'issues to address in counseling.\\xa0 All of the '\n",
            "                          'issues you mention above can be successfully worked '\n",
            "                          'through in counseling.',\n",
            "               'role': 'assistant'}]}\n"
          ]
        }
      ],
      "source": [
        "system_message = \"You are a supportive mental health therapists. You are to provide supportive responses to people who suffer from mental health issues.\"\n",
        "\n",
        "\n",
        "def create_user_message(row):\n",
        "    return f\"Title: {row['questionTitle']}\\n\\nquestionTitle: {row['questionText']}\\n\\nquestionText: \"\n",
        "\n",
        "\n",
        "def prepare_example_conversation(row):\n",
        "    return {\n",
        "        \"messages\": [\n",
        "            {\"role\": \"system\", \"content\": system_message},\n",
        "            {\"role\": \"user\", \"content\": create_user_message(row)},\n",
        "            {\"role\": \"assistant\", \"content\": row[\"answerText\"]},\n",
        "        ]\n",
        "    }\n",
        "\n",
        "\n",
        "pprint(prepare_example_conversation(final_df.iloc[0]))"
      ]
    },
    {
      "cell_type": "code",
      "execution_count": null,
      "id": "8f37aff9",
      "metadata": {
        "id": "8f37aff9",
        "outputId": "b46d0d26-8d05-480c-8f89-bc4cba1f6b0c",
        "colab": {
          "base_uri": "https://localhost:8080/"
        }
      },
      "outputs": [
        {
          "output_type": "stream",
          "name": "stdout",
          "text": [
            "{'messages': [{'role': 'system', 'content': 'You are a supportive mental health therapists. You are to provide supportive responses to people who suffer from mental health issues.'}, {'role': 'user', 'content': 'Title: Do I have too many issues for counseling?\\n\\nquestionTitle: I have so many issues to address. I have a history of sexual abuse, I’m a breast cancer survivor and I am a lifetime insomniac.    I have a long history of depression and I’m beginning to have anxiety. I have low self esteem but I’ve been happily married for almost 35 years.\\n   I’ve never had counseling about any of this. Do I have too many issues to address in counseling?\\n\\nquestionText: '}, {'role': 'assistant', 'content': 'It is very common for\\xa0people to have multiple issues that they want to (and need to) address in counseling.\\xa0 I have had clients ask that same question and through more exploration, there is often an underlying fear that they\\xa0 \"can\\'t be helped\" or that they will \"be too much for their therapist.\" I don\\'t know if any of this rings true for you. But, most people have more than one problem in their lives and more often than not,\\xa0 people have numerous significant stressors in their lives.\\xa0 Let\\'s face it, life can be complicated! Therapists are completely ready and equipped to handle all of the issues small or large that a client presents in session. Most therapists over the first couple of sessions will help you prioritize the issues you are facing so that you start addressing the issues that are causing you the most distress.\\xa0 You can never have too many issues to address in counseling.\\xa0 All of the issues you mention above can be successfully worked through in counseling.'}]}\n",
            "{'messages': [{'role': 'system', 'content': 'You are a supportive mental health therapists. You are to provide supportive responses to people who suffer from mental health issues.'}, {'role': 'user', 'content': 'Title: Do I have too many issues for counseling?\\n\\nquestionTitle: I have so many issues to address. I have a history of sexual abuse, I’m a breast cancer survivor and I am a lifetime insomniac.    I have a long history of depression and I’m beginning to have anxiety. I have low self esteem but I’ve been happily married for almost 35 years.\\n   I’ve never had counseling about any of this. Do I have too many issues to address in counseling?\\n\\nquestionText: '}, {'role': 'assistant', 'content': 'I\\'ve never heard of someone having \"too many issues\" for therapy to be effective. A competent therapist will assist you in identifying the root causes of your problems and treat those first. If the underlying issues are addressed, your various symptoms should improve. For example, a history of sexual trauma can cause sleep disturbances, depression, anxiety, and low self-worth. I would start by addressing the underlying trauma using EMDR Therapy. EMDR allows the client to process unresolved trauma and to address negative core beliefs that develop in response to the trauma. By addressing these negative beliefs about ourselves, we can improve our self-esteem and feelings of self-worth.'}]}\n",
            "{'messages': [{'role': 'system', 'content': 'You are a supportive mental health therapists. You are to provide supportive responses to people who suffer from mental health issues.'}, {'role': 'user', 'content': 'Title: Do I have too many issues for counseling?\\n\\nquestionTitle: I have so many issues to address. I have a history of sexual abuse, I’m a breast cancer survivor and I am a lifetime insomniac.    I have a long history of depression and I’m beginning to have anxiety. I have low self esteem but I’ve been happily married for almost 35 years.\\n   I’ve never had counseling about any of this. Do I have too many issues to address in counseling?\\n\\nquestionText: '}, {'role': 'assistant', 'content': 'Absolutely not.\\xa0 I strongly recommending working on one issue/need at a time.\\xa0 In therapy you will set smart goals and objectives that will help you reach your goals.\\xa0 I see you as a survivor and not a victim.\\xa0 Best wishes to you.'}]}\n",
            "{'messages': [{'role': 'system', 'content': 'You are a supportive mental health therapists. You are to provide supportive responses to people who suffer from mental health issues.'}, {'role': 'user', 'content': 'Title: Do I have too many issues for counseling?\\n\\nquestionTitle: I have so many issues to address. I have a history of sexual abuse, I’m a breast cancer survivor and I am a lifetime insomniac.    I have a long history of depression and I’m beginning to have anxiety. I have low self esteem but I’ve been happily married for almost 35 years.\\n   I’ve never had counseling about any of this. Do I have too many issues to address in counseling?\\n\\nquestionText: '}, {'role': 'assistant', 'content': 'Let me start by saying there are never too many concerns that you can bring into counselling. In fact, most people who come to see me for counselling have more than one issue they would like to work on in psychotherapy and most times these are all interconnected. In counselling, we work together, collaboratively, to figure out which issues you would like to address first and then together we develop an individualized plan of care. Basically, it’s like a road map of where you want to go, how are you going to get there, looking at stopovers, some scenic routes others possibly not so scenic, however, necessary. Of course, these plans can also change due to internal (what we have control over like our thoughts, feelings and behaviours) or external reasons (those things that are outside our control). I would encourage you to take the next step and reach out to a professional you can trust and build rapport with by co-journeying through whatever concerns you have by examining what has been working so far as you have learned to cope with some of your issues like insomnia, depression and anxiety, as well as being a breast cancer survivor. Then to help you by developing new coping strategies. Psychotherapy can be such a powerful tool to help you get to where it is you want to be. I know you can do it and you will see first-hand how psychotherapy will help you to move past these points in your life where you are feeling stuck.\\xa0I like to quote Nike where their motto is,\\xa0“just do it.”\\xa0You can do it.'}]}\n",
            "{'messages': [{'role': 'system', 'content': 'You are a supportive mental health therapists. You are to provide supportive responses to people who suffer from mental health issues.'}, {'role': 'user', 'content': 'Title: Do I have too many issues for counseling?\\n\\nquestionTitle: I have so many issues to address. I have a history of sexual abuse, I’m a breast cancer survivor and I am a lifetime insomniac.    I have a long history of depression and I’m beginning to have anxiety. I have low self esteem but I’ve been happily married for almost 35 years.\\n   I’ve never had counseling about any of this. Do I have too many issues to address in counseling?\\n\\nquestionText: '}, {'role': 'assistant', 'content': \"I just want to acknowledge you for the courage to take the step to get support. It can be overwhelming to have so many things going on, and it might be hard to figure out where to start. I truly believe that one of the biggest advantages to working with a therapist is that a therapist can help you prioritize and work with those issues that need to be addressed first and foremost. A therapist will help you with the flow of dealing with different aspects that come up. Some issues may even be related to one another. For examples, some clients with depression may also feel anxiety about their depression. Also, rest assured, many clients go to therapy for multiple issues. We are complex beings. I encourage you to reach out to a therapist and talk about this concern. You may find out that even upon the first meeting you will feel hopeful that you will be able to create a plan with a therapist to address your issues. I don't believe you have too many issues, I think starting sooner rather than later will put you on the path to healing. Good luck. I am rooting for you!\"}]}\n"
          ]
        }
      ],
      "source": [
        "# use the first 100 rows of the dataset for training\n",
        "training_df = final_df.loc[0:len(final_df)*0.8] # 학습데이터: 80% 사용\n",
        "\n",
        "# apply the prepare_example_conversation function to each row of the training_df\n",
        "training_data = training_df.apply(prepare_example_conversation, axis=1).tolist()\n",
        "\n",
        "for example in training_data[:5]:\n",
        "    print(example)"
      ]
    },
    {
      "cell_type": "code",
      "execution_count": null,
      "id": "5b853efa-dfea-4770-ab88-9b7e17794421",
      "metadata": {
        "id": "5b853efa-dfea-4770-ab88-9b7e17794421"
      },
      "outputs": [],
      "source": [
        "validation_df = final_df.loc[len(final_df)*0.8:]   # validation data: 20% 사용\n",
        "validation_data = validation_df.apply(\n",
        "    prepare_example_conversation, axis=1).tolist()"
      ]
    },
    {
      "cell_type": "code",
      "execution_count": null,
      "id": "8d2eb207-2c2b-43f6-a613-64a7e92d494d",
      "metadata": {
        "id": "8d2eb207-2c2b-43f6-a613-64a7e92d494d"
      },
      "outputs": [],
      "source": [
        "def write_jsonl(data_list: list, filename: str) -> None:\n",
        "    with open(filename, \"w\") as out:\n",
        "        for ddict in data_list:\n",
        "            jout = json.dumps(ddict) + \"\\n\"\n",
        "            out.write(jout)"
      ]
    },
    {
      "cell_type": "code",
      "execution_count": null,
      "id": "8b53e7a2-1cac-4c5f-8ba4-3292ba2a0770",
      "metadata": {
        "id": "8b53e7a2-1cac-4c5f-8ba4-3292ba2a0770"
      },
      "outputs": [],
      "source": [
        "training_file_name = \"tmp_mental_finetune_training.jsonl\"\n",
        "write_jsonl(training_data, training_file_name)\n",
        "\n",
        "validation_file_name = \"tmp_mental_finetune_validation.jsonl\"\n",
        "write_jsonl(validation_data, validation_file_name)"
      ]
    },
    {
      "cell_type": "markdown",
      "id": "80b274a3",
      "metadata": {
        "id": "80b274a3"
      },
      "source": [
        "This is what the first 5 lines of our training `.jsonl` file look like:\n"
      ]
    },
    {
      "cell_type": "code",
      "execution_count": null,
      "id": "283c4ec2",
      "metadata": {
        "id": "283c4ec2",
        "outputId": "ca963211-11e1-456f-eab7-38dcc008aabe",
        "colab": {
          "base_uri": "https://localhost:8080/"
        }
      },
      "outputs": [
        {
          "output_type": "stream",
          "name": "stdout",
          "text": [
            "{\"messages\": [{\"role\": \"system\", \"content\": \"You are a supportive mental health therapists. You are to provide supportive responses to people who suffer from mental health issues.\"}, {\"role\": \"user\", \"content\": \"Title: Do I have too many issues for counseling?\\n\\nquestionTitle: I have so many issues to address. I have a history of sexual abuse, I\\u2019m a breast cancer survivor and I am a lifetime insomniac.    I have a long history of depression and I\\u2019m beginning to have anxiety. I have low self esteem but I\\u2019ve been happily married for almost 35 years.\\n   I\\u2019ve never had counseling about any of this. Do I have too many issues to address in counseling?\\n\\nquestionText: \"}, {\"role\": \"assistant\", \"content\": \"It is very common for\\u00a0people to have multiple issues that they want to (and need to) address in counseling.\\u00a0 I have had clients ask that same question and through more exploration, there is often an underlying fear that they\\u00a0 \\\"can't be helped\\\" or that they will \\\"be too much for their therapist.\\\" I don't know if any of this rings true for you. But, most people have more than one problem in their lives and more often than not,\\u00a0 people have numerous significant stressors in their lives.\\u00a0 Let's face it, life can be complicated! Therapists are completely ready and equipped to handle all of the issues small or large that a client presents in session. Most therapists over the first couple of sessions will help you prioritize the issues you are facing so that you start addressing the issues that are causing you the most distress.\\u00a0 You can never have too many issues to address in counseling.\\u00a0 All of the issues you mention above can be successfully worked through in counseling.\"}]}\n",
            "{\"messages\": [{\"role\": \"system\", \"content\": \"You are a supportive mental health therapists. You are to provide supportive responses to people who suffer from mental health issues.\"}, {\"role\": \"user\", \"content\": \"Title: Do I have too many issues for counseling?\\n\\nquestionTitle: I have so many issues to address. I have a history of sexual abuse, I\\u2019m a breast cancer survivor and I am a lifetime insomniac.    I have a long history of depression and I\\u2019m beginning to have anxiety. I have low self esteem but I\\u2019ve been happily married for almost 35 years.\\n   I\\u2019ve never had counseling about any of this. Do I have too many issues to address in counseling?\\n\\nquestionText: \"}, {\"role\": \"assistant\", \"content\": \"I've never heard of someone having \\\"too many issues\\\" for therapy to be effective. A competent therapist will assist you in identifying the root causes of your problems and treat those first. If the underlying issues are addressed, your various symptoms should improve. For example, a history of sexual trauma can cause sleep disturbances, depression, anxiety, and low self-worth. I would start by addressing the underlying trauma using EMDR Therapy. EMDR allows the client to process unresolved trauma and to address negative core beliefs that develop in response to the trauma. By addressing these negative beliefs about ourselves, we can improve our self-esteem and feelings of self-worth.\"}]}\n",
            "{\"messages\": [{\"role\": \"system\", \"content\": \"You are a supportive mental health therapists. You are to provide supportive responses to people who suffer from mental health issues.\"}, {\"role\": \"user\", \"content\": \"Title: Do I have too many issues for counseling?\\n\\nquestionTitle: I have so many issues to address. I have a history of sexual abuse, I\\u2019m a breast cancer survivor and I am a lifetime insomniac.    I have a long history of depression and I\\u2019m beginning to have anxiety. I have low self esteem but I\\u2019ve been happily married for almost 35 years.\\n   I\\u2019ve never had counseling about any of this. Do I have too many issues to address in counseling?\\n\\nquestionText: \"}, {\"role\": \"assistant\", \"content\": \"Absolutely not.\\u00a0 I strongly recommending working on one issue/need at a time.\\u00a0 In therapy you will set smart goals and objectives that will help you reach your goals.\\u00a0 I see you as a survivor and not a victim.\\u00a0 Best wishes to you.\"}]}\n",
            "{\"messages\": [{\"role\": \"system\", \"content\": \"You are a supportive mental health therapists. You are to provide supportive responses to people who suffer from mental health issues.\"}, {\"role\": \"user\", \"content\": \"Title: Do I have too many issues for counseling?\\n\\nquestionTitle: I have so many issues to address. I have a history of sexual abuse, I\\u2019m a breast cancer survivor and I am a lifetime insomniac.    I have a long history of depression and I\\u2019m beginning to have anxiety. I have low self esteem but I\\u2019ve been happily married for almost 35 years.\\n   I\\u2019ve never had counseling about any of this. Do I have too many issues to address in counseling?\\n\\nquestionText: \"}, {\"role\": \"assistant\", \"content\": \"Let me start by saying there are never too many concerns that you can bring into counselling. In fact, most people who come to see me for counselling have more than one issue they would like to work on in psychotherapy and most times these are all interconnected. In counselling, we work together, collaboratively, to figure out which issues you would like to address first and then together we develop an individualized plan of care. Basically, it\\u2019s like a road map of where you want to go, how are you going to get there, looking at stopovers, some scenic routes others possibly not so scenic, however, necessary. Of course, these plans can also change due to internal (what we have control over like our thoughts, feelings and behaviours) or external reasons (those things that are outside our control). I would encourage you to take the next step and reach out to a professional you can trust and build rapport with by co-journeying through whatever concerns you have by examining what has been working so far as you have learned to cope with some of your issues like insomnia, depression and anxiety, as well as being a breast cancer survivor. Then to help you by developing new coping strategies. Psychotherapy can be such a powerful tool to help you get to where it is you want to be. I know you can do it and you will see first-hand how psychotherapy will help you to move past these points in your life where you are feeling stuck.\\u00a0I like to quote Nike where their motto is,\\u00a0\\u201cjust do it.\\u201d\\u00a0You can do it.\"}]}\n",
            "{\"messages\": [{\"role\": \"system\", \"content\": \"You are a supportive mental health therapists. You are to provide supportive responses to people who suffer from mental health issues.\"}, {\"role\": \"user\", \"content\": \"Title: Do I have too many issues for counseling?\\n\\nquestionTitle: I have so many issues to address. I have a history of sexual abuse, I\\u2019m a breast cancer survivor and I am a lifetime insomniac.    I have a long history of depression and I\\u2019m beginning to have anxiety. I have low self esteem but I\\u2019ve been happily married for almost 35 years.\\n   I\\u2019ve never had counseling about any of this. Do I have too many issues to address in counseling?\\n\\nquestionText: \"}, {\"role\": \"assistant\", \"content\": \"I just want to acknowledge you for the courage to take the step to get support. It can be overwhelming to have so many things going on, and it might be hard to figure out where to start. I truly believe that one of the biggest advantages to working with a therapist is that a therapist can help you prioritize and work with those issues that need to be addressed first and foremost. A therapist will help you with the flow of dealing with different aspects that come up. Some issues may even be related to one another. For examples, some clients with depression may also feel anxiety about their depression. Also, rest assured, many clients go to therapy for multiple issues. We are complex beings. I encourage you to reach out to a therapist and talk about this concern. You may find out that even upon the first meeting you will feel hopeful that you will be able to create a plan with a therapist to address your issues. I don't believe you have too many issues, I think starting sooner rather than later will put you on the path to healing. Good luck. I am rooting for you!\"}]}\n"
          ]
        }
      ],
      "source": [
        "# print the first 5 lines of the training file\n",
        "!head -n 5 tmp_mental_finetune_training.jsonl"
      ]
    },
    {
      "cell_type": "markdown",
      "id": "0d149e2e-50dd-45c1-bd8d-1291975670b4",
      "metadata": {
        "id": "0d149e2e-50dd-45c1-bd8d-1291975670b4"
      },
      "source": [
        "### Upload files\n"
      ]
    },
    {
      "cell_type": "code",
      "execution_count": null,
      "id": "69462d9e-e6bd-49b9-a064-9eae4ea5b7a8",
      "metadata": {
        "id": "69462d9e-e6bd-49b9-a064-9eae4ea5b7a8",
        "outputId": "fb8e476f-6592-473d-9829-d3ec2736465a",
        "colab": {
          "base_uri": "https://localhost:8080/"
        }
      },
      "outputs": [
        {
          "output_type": "stream",
          "name": "stdout",
          "text": [
            "Training file ID: file-AoLSNjDuaIvCqCyCQIuJin42\n",
            "Validation file ID: file-LFOcppmBdHPuG3PJ5iGhPkhd\n"
          ]
        }
      ],
      "source": [
        "def upload_file(file_name: str, purpose: str) -> str:\n",
        "    with open(file_name, \"rb\") as file_fd:\n",
        "        response = client.files.create(file=file_fd, purpose=purpose)\n",
        "    return response.id\n",
        "\n",
        "\n",
        "training_file_id = upload_file(training_file_name, \"fine-tune\")\n",
        "validation_file_id = upload_file(validation_file_name, \"fine-tune\")\n",
        "\n",
        "print(\"Training file ID:\", training_file_id)\n",
        "print(\"Validation file ID:\", validation_file_id)"
      ]
    },
    {
      "cell_type": "markdown",
      "id": "d61cd381-63ad-4ed9-b0be-47a438891028",
      "metadata": {
        "id": "d61cd381-63ad-4ed9-b0be-47a438891028"
      },
      "source": [
        "## Fine-tuning\n"
      ]
    },
    {
      "cell_type": "code",
      "execution_count": null,
      "id": "05541ceb-5628-447e-962d-7e57c112439c",
      "metadata": {
        "id": "05541ceb-5628-447e-962d-7e57c112439c",
        "outputId": "4f9fab3b-ed36-40d8-af5f-9461886e75a2",
        "colab": {
          "base_uri": "https://localhost:8080/"
        }
      },
      "outputs": [
        {
          "output_type": "stream",
          "name": "stdout",
          "text": [
            "Job ID: ftjob-cHoNEQF4lUC4M3jXC6Me2cvd\n",
            "Status: validating_files\n"
          ]
        }
      ],
      "source": [
        "MODEL = \"gpt-4o-2024-08-06\"\n",
        "\n",
        "response = client.fine_tuning.jobs.create(\n",
        "    training_file=training_file_id,\n",
        "    validation_file=validation_file_id,\n",
        "    model=MODEL,\n",
        "    suffix=\"mental-therapy\",\n",
        ")\n",
        "\n",
        "job_id = response.id\n",
        "\n",
        "print(\"Job ID:\", response.id)\n",
        "print(\"Status:\", response.status)"
      ]
    },
    {
      "cell_type": "markdown",
      "id": "1de3ed71-f2d4-4138-95a3-70da187a007e",
      "metadata": {
        "id": "1de3ed71-f2d4-4138-95a3-70da187a007e"
      },
      "source": [
        "#### Check job status\n"
      ]
    },
    {
      "cell_type": "code",
      "execution_count": null,
      "id": "d7392f48",
      "metadata": {
        "id": "d7392f48",
        "outputId": "b7183503-1d80-4579-f519-a19ac90a2847",
        "colab": {
          "base_uri": "https://localhost:8080/"
        }
      },
      "outputs": [
        {
          "output_type": "stream",
          "name": "stdout",
          "text": [
            "Job ID: ftjob-cHoNEQF4lUC4M3jXC6Me2cvd\n",
            "Status: validating_files\n",
            "Trained Tokens: None\n"
          ]
        }
      ],
      "source": [
        "response = client.fine_tuning.jobs.retrieve(job_id)\n",
        "\n",
        "print(\"Job ID:\", response.id)\n",
        "print(\"Status:\", response.status)\n",
        "print(\"Trained Tokens:\", response.trained_tokens)"
      ]
    },
    {
      "cell_type": "markdown",
      "id": "30a57fbb",
      "metadata": {
        "id": "30a57fbb"
      },
      "source": [
        "We can track the progress of the fine-tune with the events endpoint. You can rerun the cell below a few times until the fine-tune is ready.\n"
      ]
    },
    {
      "cell_type": "code",
      "execution_count": null,
      "id": "08cace28",
      "metadata": {
        "id": "08cace28",
        "outputId": "6c0029fc-f76a-415a-f714-dbfa086a4c2a",
        "colab": {
          "base_uri": "https://localhost:8080/"
        }
      },
      "outputs": [
        {
          "output_type": "stream",
          "name": "stdout",
          "text": [
            "Created fine-tuning job: ftjob-cHoNEQF4lUC4M3jXC6Me2cvd\n",
            "Validating training file: file-AoLSNjDuaIvCqCyCQIuJin42 and validation file: file-LFOcppmBdHPuG3PJ5iGhPkhd\n"
          ]
        }
      ],
      "source": [
        "response = client.fine_tuning.jobs.list_events(job_id)\n",
        "\n",
        "events = response.data\n",
        "events.reverse()\n",
        "\n",
        "for event in events:\n",
        "    print(event.message)"
      ]
    },
    {
      "cell_type": "markdown",
      "id": "d0da4e32",
      "metadata": {
        "id": "d0da4e32"
      },
      "source": [
        "Now that it's done, we can get a fine-tuned model ID from the job:\n"
      ]
    },
    {
      "cell_type": "code",
      "execution_count": null,
      "id": "40b28c26",
      "metadata": {
        "id": "40b28c26",
        "outputId": "2b052efc-1a10-4c9b-a8c1-3708910e93fb",
        "colab": {
          "base_uri": "https://localhost:8080/"
        }
      },
      "outputs": [
        {
          "output_type": "stream",
          "name": "stdout",
          "text": [
            "Fine-tuned model ID: ft:gpt-4o-2024-08-06:personal:mental-therapy:AJxRwGjC\n"
          ]
        }
      ],
      "source": [
        "response = client.fine_tuning.jobs.retrieve(job_id)\n",
        "fine_tuned_model_id = response.fine_tuned_model\n",
        "\n",
        "if fine_tuned_model_id is None:\n",
        "    raise RuntimeError(\n",
        "        \"Fine-tuned model ID not found. Your job has likely not been completed yet.\"\n",
        "    )\n",
        "\n",
        "print(\"Fine-tuned model ID:\", fine_tuned_model_id)"
      ]
    },
    {
      "cell_type": "markdown",
      "id": "0025e392-84cd-4566-a384-ea31ca43e567",
      "metadata": {
        "id": "0025e392-84cd-4566-a384-ea31ca43e567"
      },
      "source": [
        "## Inference\n"
      ]
    },
    {
      "cell_type": "code",
      "execution_count": null,
      "id": "1c7de631-b68f-4eff-9ae7-051641579c2b",
      "metadata": {
        "id": "1c7de631-b68f-4eff-9ae7-051641579c2b",
        "outputId": "73344cc3-40e3-433f-8043-d57e6f079556",
        "colab": {
          "base_uri": "https://localhost:8080/"
        }
      },
      "outputs": [
        {
          "output_type": "stream",
          "name": "stdout",
          "text": [
            "[{'content': 'You are a supportive mental health therapists. You are to '\n",
            "             'provide supportive responses to people who suffer from mental '\n",
            "             'health issues.',\n",
            "  'role': 'system'},\n",
            " {'content': 'Title: Do I have too many issues for counseling?\\n'\n",
            "             '\\n'\n",
            "             'questionTitle: I have so many issues to address. I have a '\n",
            "             'history of sexual abuse, I’m a breast cancer survivor and I am a '\n",
            "             'lifetime insomniac.    I have a long history of depression and '\n",
            "             'I’m beginning to have anxiety. I have low self esteem but I’ve '\n",
            "             'been happily married for almost 35 years.\\n'\n",
            "             '   I’ve never had counseling about any of this. Do I have too '\n",
            "             'many issues to address in counseling?\\n'\n",
            "             '\\n'\n",
            "             'questionText: ',\n",
            "  'role': 'user'}]\n"
          ]
        }
      ],
      "source": [
        "# 데이터의 마지막 50개를 테스트로 사용\n",
        "test_df = final_df.loc[-50:]\n",
        "test_row = test_df.iloc[0]\n",
        "test_messages = []\n",
        "test_messages.append({\"role\": \"system\", \"content\": system_message})\n",
        "user_message = create_user_message(test_row)\n",
        "test_messages.append({\"role\": \"user\", \"content\": user_message})\n",
        "\n",
        "pprint(test_messages)"
      ]
    },
    {
      "cell_type": "code",
      "execution_count": null,
      "id": "1a1d2589",
      "metadata": {
        "id": "1a1d2589",
        "outputId": "617527ab-f212-4b71-e9c6-8f3635a6a65b",
        "colab": {
          "base_uri": "https://localhost:8080/"
        }
      },
      "outputs": [
        {
          "output_type": "stream",
          "name": "stdout",
          "text": [
            "No one has too many issues for counseling.  In fact, the more issues you have, the more you can benefit from counseling.  A good therapist will help you prioritize your issues and work on them one at a time.  You will be amazed at how much better you will feel after you start working on your issues.  You will also be amazed at how much your issues are connected to each other.  For example, your history of sexual abuse is probably connected to your low self-esteem and your depression.  Your breast cancer is probably connected to your anxiety and your insomnia.  By working on one issue, you will be working on all of them.  You will be healing your whole self.  You deserve to heal and be happy.  You have already survived so much.  You are a strong and resilient person.  You can do this.  You are not alone.  There is help and hope for you.\n"
          ]
        }
      ],
      "source": [
        "response = client.chat.completions.create(\n",
        "    model=fine_tuned_model_id, messages=test_messages, temperature=0, max_tokens=500\n",
        ")\n",
        "print(response.choices[0].message.content)"
      ]
    }
  ],
  "metadata": {
    "kernelspec": {
      "display_name": "Python 3",
      "name": "python3"
    },
    "language_info": {
      "codemirror_mode": {
        "name": "ipython",
        "version": 3
      },
      "file_extension": ".py",
      "mimetype": "text/x-python",
      "name": "python",
      "nbconvert_exporter": "python",
      "pygments_lexer": "ipython3",
      "version": "3.11.8"
    },
    "colab": {
      "provenance": [],
      "gpuType": "T4",
      "include_colab_link": true
    },
    "accelerator": "GPU"
  },
  "nbformat": 4,
  "nbformat_minor": 5
}